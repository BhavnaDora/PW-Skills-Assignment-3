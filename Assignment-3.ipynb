{
 "cells": [
  {
   "cell_type": "markdown",
   "id": "675b36be-d7e3-413e-a34d-bb92937dea61",
   "metadata": {},
   "source": [
    "#### (1) Tuples are collection of ordered elements i.e. the elements can be accessed index wise\n",
    "##### Characteristics-\n",
    "##### Elements in tuples are enclosed by paranthesis ()\n",
    "##### Tuples are immutable\n",
    "##### Tuples are indexed\n",
    "##### Tuples are ordered\n",
    "##### Tuples can contain duplicate elements\n",
    "##### Tuples can contain int, float, complex, str, bool, list, tuple, set, dictionary etc.\n",
    "\n",
    "#### Yes, tuples are immutable. We can't change the elements inside tuples. If we do so, the error is- tuple obj doesn't support item assignment."
   ]
  },
  {
   "cell_type": "markdown",
   "id": "02cda4c6-0d1a-40f0-9b78-45682755db77",
   "metadata": {},
   "source": [
    "#### (2) The two tuple methods are-\n",
    "##### 1- count()\n",
    "##### 2- index()\n",
    "\n",
    "#### Example-"
   ]
  },
  {
   "cell_type": "code",
   "execution_count": 1,
   "id": "0899cd81-5ab0-4025-8242-257cfd3326f2",
   "metadata": {},
   "outputs": [
    {
     "data": {
      "text/plain": [
       "2"
      ]
     },
     "execution_count": 1,
     "metadata": {},
     "output_type": "execute_result"
    }
   ],
   "source": [
    "# count() method-\n",
    "tuple1= (1,2,3,\"name\",[4,5,\"abc\"],True,2,3)\n",
    "tuple1.count(True)"
   ]
  },
  {
   "cell_type": "code",
   "execution_count": 2,
   "id": "179bfb5e-d051-4d03-9d5f-23e5c780bde6",
   "metadata": {},
   "outputs": [],
   "source": [
    "# True occurs once but o/p is 2 because 1 is considered as True too!"
   ]
  },
  {
   "cell_type": "code",
   "execution_count": 3,
   "id": "d04bde95-d6ea-48fa-8a15-051d6f54194b",
   "metadata": {},
   "outputs": [
    {
     "data": {
      "text/plain": [
       "0"
      ]
     },
     "execution_count": 3,
     "metadata": {},
     "output_type": "execute_result"
    }
   ],
   "source": [
    "# index() method-\n",
    "tuple1.index(True)"
   ]
  },
  {
   "cell_type": "code",
   "execution_count": 4,
   "id": "116c9187-2078-4e65-abd3-7047d8b091d3",
   "metadata": {},
   "outputs": [],
   "source": [
    "#True is at index 5 but we get o/p as 0 index because 1 is considered as True too!"
   ]
  },
  {
   "cell_type": "code",
   "execution_count": 5,
   "id": "7e499d9d-3fd8-4e70-9fa1-2dc78e471935",
   "metadata": {},
   "outputs": [
    {
     "data": {
      "text/plain": [
       "1"
      ]
     },
     "execution_count": 5,
     "metadata": {},
     "output_type": "execute_result"
    }
   ],
   "source": [
    "tuple1.index(2)"
   ]
  },
  {
   "cell_type": "markdown",
   "id": "2c4d8348-2cd1-4a55-a495-459c89b758f8",
   "metadata": {},
   "source": [
    "#### Tuples have only 2 built-in methods as compared to lists because Tuples are immutable. So all the methods like  append(), clear(), copy(), extend(), insert(), pop(), remove(), reverse(), sort() can't be applied on tuples as we can't change the elements inside tuples."
   ]
  },
  {
   "cell_type": "markdown",
   "id": "39ffe5b1-6fd6-4fa5-b4cd-567d8c43217d",
   "metadata": {},
   "source": [
    "#### (3) Set is the data type in python that doesn't allow duplicate items. Set holds unique elements."
   ]
  },
  {
   "cell_type": "code",
   "execution_count": 6,
   "id": "e47eb7b4-e9cc-4b7c-91bd-e6541591786b",
   "metadata": {},
   "outputs": [],
   "source": [
    "List = [1, 1, 1, 2, 1, 3, 1, 4, 2, 1, 2, 2, 2, 3, 2, 4, 3, 1, 3, 2, 3, 3, 3, 4, 4, 1, 4, 2, 4, 3, 4, 4]"
   ]
  },
  {
   "cell_type": "code",
   "execution_count": 9,
   "id": "02845840-4760-4d45-9008-201b56164c08",
   "metadata": {},
   "outputs": [
    {
     "name": "stdout",
     "output_type": "stream",
     "text": [
      "{1, 2, 3, 4}\n"
     ]
    }
   ],
   "source": [
    "s1= set(List)  # set typecasting is done to remove duplicates from list\n",
    "print(s1)"
   ]
  },
  {
   "cell_type": "code",
   "execution_count": 10,
   "id": "4e807ece-7b86-4baa-a872-338996773169",
   "metadata": {},
   "outputs": [
    {
     "name": "stdout",
     "output_type": "stream",
     "text": [
      "[1, 2, 3, 4]\n"
     ]
    }
   ],
   "source": [
    "print(list(s1)) # this is the final list after removing the duplicates"
   ]
  },
  {
   "cell_type": "markdown",
   "id": "48d44338-49f5-4a84-a2c5-c6a7a048acdc",
   "metadata": {},
   "source": [
    "#### (4) Difference between union() and update() method-\n",
    "\n",
    "##### union()- This method is used to return the union of a set with the set of elements from one or more iterable like string, list, set. In this method one or more iterable can be passed as argument. If iterable other than set is passed, it first converts the iterable object to set object and then perform the union operation. It returns a newly created set, which contains all the dictinct elements present in all the iterables.\n",
    "\n",
    "##### update()- This method is used to return the union of a set with the set of elements from one or more iterable like string, list, set. It is very similar to union() method, but difference is that- union() method creates and returns a new set containing all the distinct elements present in all the iterables but update() method updates the existing set on which this method is called with all the distinct elements present in all the iterables."
   ]
  },
  {
   "cell_type": "code",
   "execution_count": 21,
   "id": "88db2398-9c2c-407d-a066-16e9d4476811",
   "metadata": {},
   "outputs": [
    {
     "data": {
      "text/plain": [
       "{1, 2, 3, 5, 7, 9, 10, 15, 20}"
      ]
     },
     "execution_count": 21,
     "metadata": {},
     "output_type": "execute_result"
    }
   ],
   "source": [
    "# Example of union()-\n",
    "\n",
    "A= {1,2,3}\n",
    "B= {1,3,5,7,9}\n",
    "C= [5,10,15,20]\n",
    "A.union(B,C)  # Returns a new set \n"
   ]
  },
  {
   "cell_type": "code",
   "execution_count": 16,
   "id": "61689364-9733-4991-a5a2-f2972eb22586",
   "metadata": {},
   "outputs": [],
   "source": [
    "# Example of update()-\n",
    "\n",
    "A.update(B,C)"
   ]
  },
  {
   "cell_type": "code",
   "execution_count": 20,
   "id": "0f8fabf2-1125-44cc-9baa-40becad31aa8",
   "metadata": {},
   "outputs": [
    {
     "data": {
      "text/plain": [
       "{1, 2, 3, 5, 7, 9, 10, 15, 20}"
      ]
     },
     "execution_count": 20,
     "metadata": {},
     "output_type": "execute_result"
    }
   ],
   "source": [
    "A # gets updated in the existing set A"
   ]
  },
  {
   "cell_type": "markdown",
   "id": "873c456d-8933-4a9a-94d4-79ab7f22e130",
   "metadata": {},
   "source": [
    "#### (5) Dictionary is collection of ordered key:value pairs. We can access the values inside dictionary by giving the key names. Keys cannot be repeated in dictionary, if repeated it gets updated. Values can be string,int,float,bool,list,tuple,set,dict etc. Keys can be int,float,bool,string,tuple but can't be special character,list,set,dict.\n",
    "#### As of python ver 3.7 dictionaries are ordered.\n",
    "##### Example-"
   ]
  },
  {
   "cell_type": "code",
   "execution_count": 23,
   "id": "6203e980-7d84-44e7-bb90-588b8bc09161",
   "metadata": {},
   "outputs": [
    {
     "name": "stdout",
     "output_type": "stream",
     "text": [
      "{'course_name': ['data science masters', 'web dev', 'JDS'], 'start_date': (28, 14, 21), 'name': 'Bhavna'}\n"
     ]
    }
   ],
   "source": [
    "d1= {\"course_name\":[\"data science masters\",\"web dev\",\"JDS\"],\"start_date\":(28,14,21),\"name\":\"Bhavna\"}\n",
    "print(d1)"
   ]
  },
  {
   "cell_type": "markdown",
   "id": "175491b6-8689-43ad-8f0c-df7f4048f284",
   "metadata": {},
   "source": [
    "#### (6) We can create nested dictionaries. \n",
    "##### Example of one level nested dictionary-"
   ]
  },
  {
   "cell_type": "code",
   "execution_count": 24,
   "id": "0e73983d-5292-4f70-b9f9-95624439b1da",
   "metadata": {},
   "outputs": [
    {
     "name": "stdout",
     "output_type": "stream",
     "text": [
      "{'key1': {'my_name': 'Bhavna', 'email_id': 'dorabhavna@gmail.com', 'number': 2345678}, 'key2': 'data science masters'}\n"
     ]
    }
   ],
   "source": [
    "d2= {\"key1\":{\"my_name\":\"Bhavna\",\"email_id\":\"dorabhavna@gmail.com\",\"number\":2345678},\"key2\":\"data science masters\"}\n",
    "print(d2)"
   ]
  },
  {
   "cell_type": "markdown",
   "id": "add28b8e-4831-4ab9-af04-debfc1647ab3",
   "metadata": {},
   "source": [
    "#### (7)"
   ]
  },
  {
   "cell_type": "code",
   "execution_count": 28,
   "id": "978b78b6-5770-471d-a487-95344c98bd35",
   "metadata": {},
   "outputs": [
    {
     "name": "stdout",
     "output_type": "stream",
     "text": [
      "{'language': 'Python', 'course': 'Data Science Masters', 'topics': ['Python', 'Machine Learning', 'Deep Learning']}\n"
     ]
    }
   ],
   "source": [
    "dict1={\"language\":\"Python\",\"course\":\"Data Science Masters\"}\n",
    "dict1.setdefault(\"topics\",[\"Python\", \"Machine Learning\", \"Deep Learning\"])\n",
    "print(dict1)"
   ]
  },
  {
   "cell_type": "markdown",
   "id": "0adc2fa0-dc4e-44ea-bcbd-f0627afc5bc7",
   "metadata": {},
   "source": [
    "#### (8) The 3 view objects in dictionary are-\n",
    "##### keys\n",
    "##### values\n",
    "##### items\n",
    "\n",
    "##### These 3 view objects can be obtained using 3 in-built methods. Keys can be obtained calling the method keys(), values can be obtained calling the method values(), items can be obtained calling the method items()."
   ]
  },
  {
   "cell_type": "code",
   "execution_count": 29,
   "id": "9d99e8c1-91b7-4504-8e8b-1c61474e804b",
   "metadata": {},
   "outputs": [
    {
     "name": "stdout",
     "output_type": "stream",
     "text": [
      "dict_keys(['Sport', 'Teams'])\n",
      "dict_values(['Cricket', ['India', 'Australia', 'England', 'South Africa', 'Sri Lanka', 'New Zealand']])\n",
      "dict_items([('Sport', 'Cricket'), ('Teams', ['India', 'Australia', 'England', 'South Africa', 'Sri Lanka', 'New Zealand'])])\n"
     ]
    }
   ],
   "source": [
    "dict1 = {\"Sport\": \"Cricket\" , \"Teams\": [\"India\", \"Australia\", \"England\", \"South Africa\", \"Sri Lanka\", \"New Zealand\"]}\n",
    "print(dict1.keys())  #returns all keys in the dict1\n",
    "print(dict1.values()) #returns all values in dict1\n",
    "print(dict1.items())  #returns all items in dict1"
   ]
  }
 ],
 "metadata": {
  "kernelspec": {
   "display_name": "Python 3 (ipykernel)",
   "language": "python",
   "name": "python3"
  },
  "language_info": {
   "codemirror_mode": {
    "name": "ipython",
    "version": 3
   },
   "file_extension": ".py",
   "mimetype": "text/x-python",
   "name": "python",
   "nbconvert_exporter": "python",
   "pygments_lexer": "ipython3",
   "version": "3.10.8"
  }
 },
 "nbformat": 4,
 "nbformat_minor": 5
}
